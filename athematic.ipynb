{
  "nbformat": 4,
  "nbformat_minor": 0,
  "metadata": {
    "colab": {
      "name": "athematic.ipynb",
      "provenance": [],
      "authorship_tag": "ABX9TyMe7G02GK/cxueCm33dv6pm",
      "include_colab_link": true
    },
    "kernelspec": {
      "name": "python3",
      "display_name": "Python 3"
    },
    "language_info": {
      "name": "python"
    }
  },
  "cells": [
    {
      "cell_type": "markdown",
      "metadata": {
        "id": "view-in-github",
        "colab_type": "text"
      },
      "source": [
        "<a href=\"https://colab.research.google.com/github/vardhanreddy369/Python-Full_stack_development/blob/main/athematic.ipynb\" target=\"_parent\"><img src=\"https://colab.research.google.com/assets/colab-badge.svg\" alt=\"Open In Colab\"/></a>"
      ]
    },
    {
      "cell_type": "code",
      "execution_count": 2,
      "metadata": {
        "colab": {
          "base_uri": "https://localhost:8080/"
        },
        "id": "2chQxEHPe6s5",
        "outputId": "e5b6aa26-0b2e-49eb-be5d-8c2d2c3cb1f7"
      },
      "outputs": [
        {
          "output_type": "stream",
          "name": "stdout",
          "text": [
            "a + b is  31\n",
            "a + b is  11\n",
            "a + b is  210\n",
            "a + b is  2.1\n",
            "a + b is  1\n"
          ]
        }
      ],
      "source": [
        "a = 21\n",
        "b = 10\n",
        "c = 0\n",
        "\n",
        "c = a + b\n",
        "print (\"a + b is \", c)\n",
        "\n",
        "c = a - b\n",
        "print (\"a + b is \", c)\n",
        "\n",
        "c = a * b\n",
        "print (\"a + b is \", c) \n",
        "\n",
        "c = a / b\n",
        "print (\"a + b is \", c)\n",
        "\n",
        "c = a % b\n",
        "print (\"a + b is \", c)"
      ]
    }
  ]
}